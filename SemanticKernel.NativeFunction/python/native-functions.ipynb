{
 "cells": [
  {
   "cell_type": "code",
   "execution_count": 12,
   "metadata": {},
   "outputs": [
    {
     "name": "stdout",
     "output_type": "stream",
     "text": [
      "The population number in the United States in 2018 was 322903030\n"
     ]
    }
   ],
   "source": [
    "from semantic_kernel.skill_definition import sk_function\n",
    "import requests\n",
    "import semantic_kernel as sk\n",
    "from semantic_kernel.connectors.ai.open_ai import AzureChatCompletion\n",
    "\n",
    "class UnitedStatesPlugin:\n",
    "    @sk_function(\n",
    "        description=\"Get the United States population for a specific year\",\n",
    "        name=\"GetPopulation\",\n",
    "        input_description=\"The year to get the population for\"\n",
    "    )\n",
    "\n",
    "    def get_population(self, input: str) -> str:\n",
    "        url = \"https://datausa.io/api/data?drilldowns=Nation&measures=Population\"\n",
    "        response = requests.get(url)\n",
    "        data = response.json()\n",
    "        for record in data[\"data\"]:\n",
    "            if record[\"Year\"] == input:\n",
    "                return \"The population number in the United States in {year} was {population}\".format(year=input, population=record[\"Population\"])\n",
    "        return \"No data found for that year\"\n",
    "    \n",
    "\n",
    "kernel = sk.Kernel()\n",
    "deployment, api_key, endpoint = sk.azure_openai_settings_from_dot_env()\n",
    "kernel.add_chat_service(\"dv\", AzureChatCompletion(deployment, endpoint, api_key))\n",
    "\n",
    "us_plugin = kernel.import_skill(UnitedStatesPlugin(), skill_name=\"UnitedStatesPlugin\")\n",
    "\n",
    "getPopulation = us_plugin[\"GetPopulation\"]\n",
    "result = getPopulation(\"2018\")\n",
    "print(result)"
   ]
  }
 ],
 "metadata": {
  "kernelspec": {
   "display_name": "Python 3",
   "language": "python",
   "name": "python3"
  },
  "language_info": {
   "codemirror_mode": {
    "name": "ipython",
    "version": 3
   },
   "file_extension": ".py",
   "mimetype": "text/x-python",
   "name": "python",
   "nbconvert_exporter": "python",
   "pygments_lexer": "ipython3",
   "version": "3.11.6"
  }
 },
 "nbformat": 4,
 "nbformat_minor": 2
}
