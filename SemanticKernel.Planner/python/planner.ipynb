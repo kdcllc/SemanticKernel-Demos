{
 "cells": [
  {
   "cell_type": "code",
   "execution_count": 1,
   "metadata": {},
   "outputs": [
    {
     "name": "stdout",
     "output_type": "stream",
     "text": [
      "{\n",
      "        \"input\": \"US population in 2015\",\n",
      "        \"subtasks\": [\n",
      "            {\"function\": \"UnitedStatesPlugin.GetPopulation\", \"args\": {\"input\": 2015}},\n",
      "            {\"function\": \"MailPlugin.WriteBusinessMail\", \"args\": {\"input\": \"Please find attached the number of US population in 2015 for the research program.\"}}\n",
      "        ]\n",
      "    }\n",
      "Dear [Recipient],\n",
      "\n",
      "I hope this email finds you well. I am writing to provide you with the number of US population in 2015, which is attached to this email. This information is intended for use in the research program.\n",
      "\n",
      "Please let me know if you require any further assistance or information. I am always here to help.\n",
      "\n",
      "Best regards,\n",
      "\n",
      "AI Assistant\n"
     ]
    }
   ],
   "source": [
    "import semantic_kernel as sk\n",
    "import requests\n",
    "\n",
    "from semantic_kernel.skill_definition import sk_function\n",
    "from semantic_kernel.connectors.ai.open_ai import AzureChatCompletion\n",
    "from semantic_kernel.planning.basic_planner import BasicPlanner\n",
    "from dotenv import load_dotenv, find_dotenv\n",
    "\n",
    "class UnitedStatesPlugin:\n",
    "    @sk_function(\n",
    "        description=\"Get the United States population for a specific year\",\n",
    "        name=\"GetPopulation\",\n",
    "        input_description=\"The year to get the population for\"\n",
    "    )\n",
    "\n",
    "    def get_population(self, input: str) -> str:\n",
    "        url = \"https://datausa.io/api/data?drilldowns=Nation&measures=Population\"\n",
    "        response = requests.get(url)\n",
    "        data = response.json()\n",
    "        for record in data[\"data\"]:\n",
    "            if record[\"Year\"] == input:\n",
    "                return \"The population number in the United States in {year} was {population}\".format(year=input, population=record[\"Population\"])\n",
    "        return \"No data found for that year\"\n",
    "    \n",
    "\n",
    "\n",
    "kernel = sk.Kernel()\n",
    "\n",
    "deployment, api_key, endpoint = sk.azure_openai_settings_from_dot_env()\n",
    "kernel.add_chat_service(\"dv\", AzureChatCompletion(deployment, endpoint, api_key))\n",
    "\n",
    "skills_directory = \"../Plugins/\"\n",
    "kernel.import_semantic_skill_from_directory(skills_directory, \"MailPlugin\")\n",
    "kernel.import_skill(UnitedStatesPlugin(), skill_name=\"UnitedStatesPlugin\")\n",
    "\n",
    "ask = \"\"\"\n",
    "Write a mail to share the number of the United States population in 2015 for a research program.\n",
    "\"\"\"\n",
    "\n",
    "planner = BasicPlanner()\n",
    "basic_plan = await planner.create_plan_async(ask, kernel)\n",
    "\n",
    "print(basic_plan.generated_plan)\n",
    "\n",
    "results = await planner.execute_plan_async(basic_plan, kernel)\n",
    "print(results)"
   ]
  }
 ],
 "metadata": {
  "kernelspec": {
   "display_name": "Python 3",
   "language": "python",
   "name": "python3"
  },
  "language_info": {
   "codemirror_mode": {
    "name": "ipython",
    "version": 3
   },
   "file_extension": ".py",
   "mimetype": "text/x-python",
   "name": "python",
   "nbconvert_exporter": "python",
   "pygments_lexer": "ipython3",
   "version": "3.11.6"
  }
 },
 "nbformat": 4,
 "nbformat_minor": 2
}
